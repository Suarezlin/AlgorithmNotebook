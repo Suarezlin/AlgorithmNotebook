{
 "cells": [
  {
   "cell_type": "markdown",
   "metadata": {},
   "source": [
    "# 排序"
   ]
  },
  {
   "cell_type": "markdown",
   "metadata": {},
   "source": [
    "以下为排序使用的一些基本操作，如交换数组中夺得两个元素，打印数组等。"
   ]
  },
  {
   "cell_type": "code",
   "execution_count": 2,
   "metadata": {},
   "outputs": [],
   "source": [
    "<T> void swap(T[] data, int i, int j) {\n",
    "    if (i < 0 || j < 0 || i >= data.length || j >= data.length) {\n",
    "        throw new IllegalArgumentException();\n",
    "    }\n",
    "    T temp = data[i];\n",
    "    data[i] = data[j];\n",
    "    data[j] = temp;\n",
    "}"
   ]
  },
  {
   "cell_type": "code",
   "execution_count": 3,
   "metadata": {},
   "outputs": [],
   "source": [
    "<T> void print(T[] data) {\n",
    "    for (int i = 0; i < data.length; i++) {\n",
    "        System.out.printf(\"%s \", data[i].toString());\n",
    "    }\n",
    "    System.out.println();\n",
    "}"
   ]
  },
  {
   "cell_type": "markdown",
   "metadata": {},
   "source": [
    "## 选择排序\n",
    "\n",
    "选择排序将待排序数组分为两个部分：位于数组前部的有序部分和位于数组后方的无序部分。每次循环时，选择无序部分的最值，将其与无需部分的第一个值交换，放入有序部分，直到无需部分为空。"
   ]
  },
  {
   "cell_type": "code",
   "execution_count": 4,
   "metadata": {},
   "outputs": [],
   "source": [
    "<T extends Comparable> int findMin(T[] data, int start) {\n",
    "    int index = start;\n",
    "    T min = data[start];\n",
    "    for (int i = start + 1; i < data.length; i++) {\n",
    "        if (min.compareTo(data[i]) > 0) {\n",
    "            min = data[i];\n",
    "            index = i;\n",
    "        }\n",
    "    }\n",
    "    return index;\n",
    "}"
   ]
  },
  {
   "cell_type": "code",
   "execution_count": 5,
   "metadata": {},
   "outputs": [],
   "source": [
    "<T extends Comparable> void sort(T[] data) {\n",
    "    for (int i = 0; i < data.length; i++) {\n",
    "        int index = findMin(data, i);\n",
    "        swap(data, i, index);\n",
    "    }\n",
    "}"
   ]
  },
  {
   "cell_type": "code",
   "execution_count": 6,
   "metadata": {},
   "outputs": [
    {
     "name": "stdout",
     "output_type": "stream",
     "text": [
      "0 1 2 3 4 5 6 7 8 9 \n"
     ]
    }
   ],
   "source": [
    "Integer[] data = new Integer[] {9, 8, 7, 6, 5, 4, 3, 2, 1, 0};\n",
    "sort(data);\n",
    "print(data);"
   ]
  },
  {
   "cell_type": "code",
   "execution_count": null,
   "metadata": {},
   "outputs": [],
   "source": []
  }
 ],
 "metadata": {
  "kernelspec": {
   "display_name": "Java",
   "language": "java",
   "name": "java"
  },
  "language_info": {
   "codemirror_mode": "java",
   "file_extension": ".jshell",
   "mimetype": "text/x-java-source",
   "name": "Java",
   "pygments_lexer": "java",
   "version": "13.0.4+8-Ubuntu-120.04"
  }
 },
 "nbformat": 4,
 "nbformat_minor": 4
}
