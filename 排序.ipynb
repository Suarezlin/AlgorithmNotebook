{
 "cells": [
  {
   "cell_type": "markdown",
   "metadata": {},
   "source": [
    "# 排序"
   ]
  },
  {
   "cell_type": "markdown",
   "metadata": {},
   "source": [
    "排序算法主要可以分为时间复杂度为 $O(n^2)$ 的基本排序算法和时间复杂度为 $O(nlogn)$ 的高级排序算法。\n",
    "\n",
    "基本排序算法包括：\n",
    "* 选择排序\n",
    "* 插入排序\n",
    "* 冒泡排序\n",
    "\n",
    "高级排序算法包括：\n",
    "* 快速排序\n",
    "* 希尔排序\n",
    "* 归并排序\n",
    "* 堆排序\n",
    "\n",
    "以下为排序使用的一些基本操作，如交换数组中夺得两个元素，打印数组等。"
   ]
  },
  {
   "cell_type": "code",
   "execution_count": 1,
   "metadata": {},
   "outputs": [],
   "source": [
    "abstract class Sort<T extends Comparable> {\n",
    "    public abstract void sort(T[] data);\n",
    "    \n",
    "    // 交换数组元素\n",
    "    protected final void swap(T[] data, int i, int j) {\n",
    "        if (i < 0 || j < 0 || i >= data.length || j >= data.length) {\n",
    "            throw new IllegalArgumentException();\n",
    "        }\n",
    "        T temp = data[i];\n",
    "        data[i] = data[j];\n",
    "        data[j] = temp;\n",
    "    }\n",
    "}"
   ]
  },
  {
   "cell_type": "code",
   "execution_count": 2,
   "metadata": {},
   "outputs": [],
   "source": [
    "// 打印数组\n",
    "<T extends Comparable> void print(T[] data) {\n",
    "    for (int i = 0; i < data.length; i++) { \n",
    "        System.out.printf(\"%s \", data[i].toString());\n",
    "    }\n",
    "    System.out.println();\n",
    "}"
   ]
  },
  {
   "cell_type": "code",
   "execution_count": 3,
   "metadata": {},
   "outputs": [],
   "source": [
    "// 生成测试数组\n",
    "import java.util.Random;\n",
    "Integer[] getRandomIntegerArray(int length, int low, int high) {\n",
    "    if (length <= 0 || low >= high) {\n",
    "        throw new IllegalArgumentException();\n",
    "    }\n",
    "    Integer[] res = new Integer[length];\n",
    "    Random random = new Random(System.currentTimeMillis());\n",
    "    for (int i = 0; i < length; i++) {\n",
    "        res[i] = low + random.nextInt(high - low);\n",
    "    }\n",
    "    return res;\n",
    "}\n",
    "// 生成浮点数数组\n",
    "Double[] getRandomDoubleArray(int length, double low, double high) {\n",
    "    if (length <= 0 || low >= high) {\n",
    "        throw new IllegalArgumentException();\n",
    "    }\n",
    "    Double[] res = new Double[length];\n",
    "    Random random = new Random(System.currentTimeMillis());\n",
    "    for (int i = 0; i < length; i++) {\n",
    "        res[i] = low + random.nextDouble(high - low);\n",
    "    }\n",
    "    return res;\n",
    "}"
   ]
  },
  {
   "cell_type": "code",
   "execution_count": 4,
   "metadata": {},
   "outputs": [],
   "source": [
    "// 测试排序算法耗时\n",
    "%maven org.knowm.xchart:xchart:3.5.2\n",
    "import org.knowm.xchart.*;\n",
    "\n",
    "<T extends Comparable> boolean isSorted(T[] data) {\n",
    "    for (int i = 0; i < data.length - 1; i++) {\n",
    "        if (data[i].compareTo(data[i + 1]) > 0) {\n",
    "            return false;\n",
    "        }\n",
    "    }\n",
    "    return true;\n",
    "}\n",
    "\n",
    "XYChart testSort(String sortName, Sort<Integer> sort) {\n",
    "    display(\"Sort: \" + sortName + \" Start\");\n",
    "    double[] x = new double[10];\n",
    "    double[] y = new double[10];\n",
    "    for (int i = 1 ; i <= 10; i++) {\n",
    "        x[i-1] = 1000 * i;\n",
    "        long sum = 0;\n",
    "        for (int j = 0; j < 20; j++) {\n",
    "            Integer[] data = getRandomIntegerArray(1000 * i, 0, 1000 * i);\n",
    "            long start = System.currentTimeMillis();\n",
    "            sort.sort(data);\n",
    "            long result = System.currentTimeMillis() - start;\n",
    "            assert isSorted(data);\n",
    "            sum += result;\n",
    "            try {\n",
    "                Thread.sleep(10);\n",
    "            } catch(Exception e) {\n",
    "                e.printStackTrace();\n",
    "            }\n",
    "        }\n",
    "        y[i-1] = sum / 20;\n",
    "        display(\"Sort \" + (1000 * i) + \" numbers complete, average time \" + (sum / 20) + \" ms\");\n",
    "    }\n",
    "    XYChart chart = QuickChart.getChart(\"Sort Time Chart\", \"numbers\", \"time\", sortName, x, y);\n",
    "    return chart;\n",
    "}"
   ]
  },
  {
   "cell_type": "markdown",
   "metadata": {},
   "source": [
    "## 基本排序算法\n",
    "简单排序算法的优点：\n",
    "* 基础\n",
    "* 实现简单，是简单情形的首选\n",
    "* 在一些特殊情况下，简单排序算法可能更有效\n",
    "* 简单排序可以衍生出高级的排序算法\n",
    "* 简单排序算法可以作为子过程改善高级排序算法"
   ]
  },
  {
   "cell_type": "markdown",
   "metadata": {},
   "source": [
    "### 选择排序\n",
    "\n",
    "选择排序将待排序数组分为两个部分：位于数组前部的有序部分和位于数组后方的无序部分。每次循环时，选择无序部分的最值，将其与无需部分的第一个值交换，放入有序部分，直到无需部分为空。"
   ]
  },
  {
   "cell_type": "markdown",
   "metadata": {},
   "source": [
    "#### 算法实现"
   ]
  },
  {
   "cell_type": "code",
   "execution_count": 5,
   "metadata": {},
   "outputs": [],
   "source": [
    "class SelectionSort<T extends Comparable> extends Sort<T> {\n",
    "    public void sort(T[] data) {\n",
    "        for (int i = 0; i < data.length; i++) {\n",
    "            // 查找最小值并交换，加入有序部分\n",
    "            int index = findMin(data, i);\n",
    "            swap(data, i, index);\n",
    "        }\n",
    "    }\n",
    "    \n",
    "    // 查找最小值\n",
    "    private int findMin(T[] data, int start) {\n",
    "        int index = start;\n",
    "        T min = data[start];\n",
    "        for (int i = start + 1; i < data.length; i++) {\n",
    "            if (min.compareTo(data[i]) > 0) {\n",
    "                min = data[i];\n",
    "                index = i;\n",
    "            }\n",
    "        }\n",
    "        return index;\n",
    "    }\n",
    "}"
   ]
  },
  {
   "cell_type": "markdown",
   "metadata": {},
   "source": [
    "#### 算法测试\n",
    "测试排序算法"
   ]
  },
  {
   "cell_type": "code",
   "execution_count": 6,
   "metadata": {},
   "outputs": [
    {
     "data": {
      "text/plain": [
       "Sort: Selection Sort Start"
      ]
     },
     "metadata": {},
     "output_type": "display_data"
    },
    {
     "data": {
      "text/plain": [
       "Sort 1000 numbers complete, average time 2 ms"
      ]
     },
     "metadata": {},
     "output_type": "display_data"
    },
    {
     "data": {
      "text/plain": [
       "Sort 2000 numbers complete, average time 3 ms"
      ]
     },
     "metadata": {},
     "output_type": "display_data"
    },
    {
     "data": {
      "text/plain": [
       "Sort 3000 numbers complete, average time 8 ms"
      ]
     },
     "metadata": {},
     "output_type": "display_data"
    },
    {
     "data": {
      "text/plain": [
       "Sort 4000 numbers complete, average time 12 ms"
      ]
     },
     "metadata": {},
     "output_type": "display_data"
    },
    {
     "data": {
      "text/plain": [
       "Sort 5000 numbers complete, average time 22 ms"
      ]
     },
     "metadata": {},
     "output_type": "display_data"
    },
    {
     "data": {
      "text/plain": [
       "Sort 6000 numbers complete, average time 29 ms"
      ]
     },
     "metadata": {},
     "output_type": "display_data"
    },
    {
     "data": {
      "text/plain": [
       "Sort 7000 numbers complete, average time 38 ms"
      ]
     },
     "metadata": {},
     "output_type": "display_data"
    },
    {
     "data": {
      "text/plain": [
       "Sort 8000 numbers complete, average time 51 ms"
      ]
     },
     "metadata": {},
     "output_type": "display_data"
    },
    {
     "data": {
      "text/plain": [
       "Sort 9000 numbers complete, average time 65 ms"
      ]
     },
     "metadata": {},
     "output_type": "display_data"
    },
    {
     "data": {
      "text/plain": [
       "Sort 10000 numbers complete, average time 78 ms"
      ]
     },
     "metadata": {},
     "output_type": "display_data"
    }
   ],
   "source": [
    "XYChart chart = testSort(\"Selection Sort\", new SelectionSort());"
   ]
  },
  {
   "cell_type": "code",
   "execution_count": 7,
   "metadata": {},
   "outputs": [
    {
     "data": {
      "image/png": "[encoded data removed]",
      "text/plain": [
       "BufferedImage@5e65d267: type = 1 DirectColorModel: rmask=ff0000 gmask=ff00 bmask=ff amask=0 IntegerInterleavedRaster: width = 600 height = 400 #Bands = 3 xOff = 0 yOff = 0 dataOffset[0] 0"
      ]
     },
     "execution_count": 7,
     "metadata": {},
     "output_type": "execute_result"
    }
   ],
   "source": [
    "BitmapEncoder.getBufferedImage(chart);"
   ]
  },
  {
   "cell_type": "markdown",
   "metadata": {},
   "source": [
    "选择排序使用了两层循环，第一层为将无序部分的最值加入有序部分，第二层为在无需部分中查找最值。\n",
    "\n",
    "第一层循环共进行 $n$ 次，第 $i$ 次循环中的查找最值部分遍历数组 $n - i$ 次，遍历数组的次数为：\n",
    "$$\n",
    "\\sum_{i=0}^{n-1}{n-i} = \\frac{n(n-1)}{2}\n",
    "$$\n",
    "\n",
    "时间复杂度为：$O(n^2)$，n 为排序数组的长度。\n",
    "实际运行时间随数组大小变化曲线如上图，近似平方关系。\n",
    "\n",
    "选择排序在对任何数组进行排序时访问数组次数都不变，在排序无序数组和近似有序数组时花费时间相似。"
   ]
  },
  {
   "cell_type": "markdown",
   "metadata": {},
   "source": [
    "### 插入排序\n",
    "\n",
    "插入排序也将数组分为有序部分与无序部分，有序部分在前，无序部分在后。对长度为 $n$ 的数组进行插入排序，需要进行 $n$ 次循环，每次循环将无序部分的第一个元素按顺序插入到有序部分当中。"
   ]
  },
  {
   "cell_type": "markdown",
   "metadata": {},
   "source": [
    "#### 算法实现"
   ]
  },
  {
   "cell_type": "code",
   "execution_count": 8,
   "metadata": {},
   "outputs": [],
   "source": [
    "class InsertionSort<T extends Comparable> extends Sort<T> {\n",
    "    public void sort(T[] data) {\n",
    "        for (int i = 1; i < data.length; i++) {\n",
    "            int index = findIndex(data, i);\n",
    "            insert(data, index, i);\n",
    "        }\n",
    "    }\n",
    "    // 线性查找法查找插入的位置\n",
    "    private int findIndex(T[] data, int index) {\n",
    "        int result = 0;\n",
    "        for (result = 0; result < index && data[result].compareTo(data[index]) <= 0; result++) {\n",
    "        }\n",
    "        return result;\n",
    "    }\n",
    "    private void insert(T[] data, int index, int place) {\n",
    "        T temp = data[place];\n",
    "        for (int i = place; i > index; i--) {\n",
    "            data[i] = data[i-1];\n",
    "        }\n",
    "        data[index] = temp;\n",
    "    }\n",
    "}"
   ]
  },
  {
   "cell_type": "markdown",
   "metadata": {},
   "source": [
    "#### 算法测试\n",
    "测试排序结果："
   ]
  },
  {
   "cell_type": "code",
   "execution_count": 9,
   "metadata": {},
   "outputs": [
    {
     "name": "stdout",
     "output_type": "stream",
     "text": [
      "2 3 3 6 8 9 15 15 15 16 16 17 18 18 18 19 20 21 21 23 23 27 27 28 29 30 31 32 33 35 35 36 37 37 39 39 40 41 42 43 43 43 44 44 45 45 45 45 45 46 46 46 47 47 47 48 48 49 54 55 56 60 60 60 61 62 62 63 65 66 70 70 71 72 73 73 76 76 76 77 77 78 81 81 81 83 84 84 85 85 86 86 87 88 89 89 91 94 95 97 \n"
     ]
    }
   ],
   "source": [
    "Integer[] data = getRandomIntegerArray(100, 0, 100);\n",
    "new InsertionSort().sort(data);\n",
    "print(data);"
   ]
  },
  {
   "cell_type": "code",
   "execution_count": 10,
   "metadata": {},
   "outputs": [
    {
     "data": {
      "text/plain": [
       "Sort: Insertion Sort Start"
      ]
     },
     "metadata": {},
     "output_type": "display_data"
    },
    {
     "data": {
      "text/plain": [
       "Sort 1000 numbers complete, average time 3 ms"
      ]
     },
     "metadata": {},
     "output_type": "display_data"
    },
    {
     "data": {
      "text/plain": [
       "Sort 2000 numbers complete, average time 3 ms"
      ]
     },
     "metadata": {},
     "output_type": "display_data"
    },
    {
     "data": {
      "text/plain": [
       "Sort 3000 numbers complete, average time 6 ms"
      ]
     },
     "metadata": {},
     "output_type": "display_data"
    },
    {
     "data": {
      "text/plain": [
       "Sort 4000 numbers complete, average time 8 ms"
      ]
     },
     "metadata": {},
     "output_type": "display_data"
    },
    {
     "data": {
      "text/plain": [
       "Sort 5000 numbers complete, average time 14 ms"
      ]
     },
     "metadata": {},
     "output_type": "display_data"
    },
    {
     "data": {
      "text/plain": [
       "Sort 6000 numbers complete, average time 18 ms"
      ]
     },
     "metadata": {},
     "output_type": "display_data"
    },
    {
     "data": {
      "text/plain": [
       "Sort 7000 numbers complete, average time 25 ms"
      ]
     },
     "metadata": {},
     "output_type": "display_data"
    },
    {
     "data": {
      "text/plain": [
       "Sort 8000 numbers complete, average time 33 ms"
      ]
     },
     "metadata": {},
     "output_type": "display_data"
    },
    {
     "data": {
      "text/plain": [
       "Sort 9000 numbers complete, average time 42 ms"
      ]
     },
     "metadata": {},
     "output_type": "display_data"
    },
    {
     "data": {
      "text/plain": [
       "Sort 10000 numbers complete, average time 53 ms"
      ]
     },
     "metadata": {},
     "output_type": "display_data"
    }
   ],
   "source": [
    "XYChart chart = testSort(\"Insertion Sort\", new InsertionSort());"
   ]
  },
  {
   "cell_type": "code",
   "execution_count": 11,
   "metadata": {},
   "outputs": [
    {
     "data": {
      "image/png": "[encoded data removed]",
      "text/plain": [
       "BufferedImage@111442ff: type = 1 DirectColorModel: rmask=ff0000 gmask=ff00 bmask=ff amask=0 IntegerInterleavedRaster: width = 600 height = 400 #Bands = 3 xOff = 0 yOff = 0 dataOffset[0] 0"
      ]
     },
     "execution_count": 11,
     "metadata": {},
     "output_type": "execute_result"
    }
   ],
   "source": [
    "BitmapEncoder.getBufferedImage(chart);"
   ]
  },
  {
   "cell_type": "markdown",
   "metadata": {},
   "source": [
    "插入排序需要进行 $n$ 次循环，每次循环都要在有序部分当中寻找插入的位置，在第 $i$ 次循环中，查找插入位置平均遍历数组次数为 $\\frac{i}{2}$ 次，还需要大约 $\\frac{i}{2}$ 次移动位置，可见插入排序的遍历次数比选择排序相当，总遍历次数为：\n",
    "$$\n",
    "\\sum_{i=1}^{n}{(\\frac{i}{2} + \\frac{i}{2})} = \\frac{n(n-1)}{2}\n",
    "$$\n",
    "时间复杂度为 $O(n^2)$ 阶。\n",
    "上面的测试结果也表明了，排序时间与数组长度近似平方关系。"
   ]
  },
  {
   "cell_type": "markdown",
   "metadata": {},
   "source": [
    "#### 算法优化\n",
    "在上面的插入排序算法实现中，我们采用直接查找法查找来寻找插入的位置，我们可以使用二分查找法查找位置来优化排序算法。"
   ]
  },
  {
   "cell_type": "code",
   "execution_count": 12,
   "metadata": {},
   "outputs": [],
   "source": [
    "class BinInsertionSort<T extends Comparable> extends Sort<T> {\n",
    "    public void sort(T[] data) {\n",
    "        for (int i = 1; i < data.length; i++) {\n",
    "            int index = findIndex(data, i);\n",
    "            insert(data, index, i);\n",
    "        }\n",
    "    }\n",
    "    // 二分查找法查找插入的位置\n",
    "    private int findIndex(T[] data, int index) {\n",
    "        return findIndex(data, index, 0, index - 1);\n",
    "    }\n",
    "    \n",
    "    private int findIndex(T[] data, int index, int start, int end) {\n",
    "        // start 等于 end 时，判断 插入位置是否小于等于目标，若是则插入位置后移一位，否则插入位置不变\n",
    "        if (start == end) {\n",
    "            // 搜索区间为空，进一步判断插入位置并返回\n",
    "            if (data[start].compareTo(data[index]) <= 0) {\n",
    "                return start + 1;\n",
    "            } else {\n",
    "                return start;\n",
    "            }\n",
    "        }\n",
    "        // 找到中间值\n",
    "        int mid = start + (end - start) / 2;\n",
    "        if (data[mid].compareTo(data[index]) < 0) {\n",
    "            // 中间值小于目标时，到后半部分查找，一定不包含该中间值，mid + 1\n",
    "            return findIndex(data, index, mid + 1, end);\n",
    "        } else {\n",
    "            // 中间值大于等于目标时，到前半部分查找，插入位置可能为中间值，递归查询右值为 mid，不需要减一\n",
    "            // 不断将搜索区间向左收缩\n",
    "            return findIndex(data, index, start, mid);\n",
    "        }\n",
    "    }\n",
    "    \n",
    "    private void insert(T[] data, int index, int place) {\n",
    "        T temp = data[place];\n",
    "        for (int i = place; i > index; i--) {\n",
    "            data[i] = data[i-1];\n",
    "        }\n",
    "        data[index] = temp;\n",
    "    }\n",
    "}"
   ]
  },
  {
   "cell_type": "code",
   "execution_count": 13,
   "metadata": {},
   "outputs": [
    {
     "name": "stdout",
     "output_type": "stream",
     "text": [
      "0 0 1 1 2 4 4 4 5 7 7 9 9 10 10 11 11 13 14 14 15 15 15 17 17 18 18 18 21 21 22 22 22 23 23 23 26 28 28 28 28 30 30 31 32 32 33 37 40 40 40 45 47 47 48 50 51 54 54 56 56 58 59 59 60 60 61 62 63 64 64 65 65 67 68 69 69 69 71 72 72 73 73 76 78 78 80 81 81 82 83 87 90 92 92 93 93 94 96 98 \n"
     ]
    }
   ],
   "source": [
    "Integer[] data = getRandomIntegerArray(100, 0, 100);\n",
    "new BinInsertionSort().sort(data);\n",
    "print(data);"
   ]
  },
  {
   "cell_type": "code",
   "execution_count": 14,
   "metadata": {},
   "outputs": [
    {
     "data": {
      "text/plain": [
       "Sort: Binary Search Insertion Sort Start"
      ]
     },
     "metadata": {},
     "output_type": "display_data"
    },
    {
     "data": {
      "text/plain": [
       "Sort 1000 numbers complete, average time 2 ms"
      ]
     },
     "metadata": {},
     "output_type": "display_data"
    },
    {
     "data": {
      "text/plain": [
       "Sort 2000 numbers complete, average time 1 ms"
      ]
     },
     "metadata": {},
     "output_type": "display_data"
    },
    {
     "data": {
      "text/plain": [
       "Sort 3000 numbers complete, average time 4 ms"
      ]
     },
     "metadata": {},
     "output_type": "display_data"
    },
    {
     "data": {
      "text/plain": [
       "Sort 4000 numbers complete, average time 6 ms"
      ]
     },
     "metadata": {},
     "output_type": "display_data"
    },
    {
     "data": {
      "text/plain": [
       "Sort 5000 numbers complete, average time 9 ms"
      ]
     },
     "metadata": {},
     "output_type": "display_data"
    },
    {
     "data": {
      "text/plain": [
       "Sort 6000 numbers complete, average time 13 ms"
      ]
     },
     "metadata": {},
     "output_type": "display_data"
    },
    {
     "data": {
      "text/plain": [
       "Sort 7000 numbers complete, average time 18 ms"
      ]
     },
     "metadata": {},
     "output_type": "display_data"
    },
    {
     "data": {
      "text/plain": [
       "Sort 8000 numbers complete, average time 24 ms"
      ]
     },
     "metadata": {},
     "output_type": "display_data"
    },
    {
     "data": {
      "text/plain": [
       "Sort 9000 numbers complete, average time 30 ms"
      ]
     },
     "metadata": {},
     "output_type": "display_data"
    },
    {
     "data": {
      "text/plain": [
       "Sort 10000 numbers complete, average time 37 ms"
      ]
     },
     "metadata": {},
     "output_type": "display_data"
    }
   ],
   "source": [
    "XYChart chart = testSort(\"Binary Search Insertion Sort\", new BinInsertionSort());"
   ]
  },
  {
   "cell_type": "code",
   "execution_count": 15,
   "metadata": {},
   "outputs": [
    {
     "data": {
      "image/png": "[encoded data removed]",
      "text/plain": [
       "BufferedImage@5dcf76c3: type = 1 DirectColorModel: rmask=ff0000 gmask=ff00 bmask=ff amask=0 IntegerInterleavedRaster: width = 600 height = 400 #Bands = 3 xOff = 0 yOff = 0 dataOffset[0] 0"
      ]
     },
     "execution_count": 15,
     "metadata": {},
     "output_type": "execute_result"
    }
   ],
   "source": [
    "BitmapEncoder.getBufferedImage(chart);"
   ]
  },
  {
   "cell_type": "markdown",
   "metadata": {},
   "source": [
    "使用二分查找优化时，查找插入位置时需要 $logi$ 次访问数组元素，提高了排序性能，由于插入时还需访问 $\\frac{i}{2}$ 次数组，所以时间复杂度不变，为 $O(n^2)$。"
   ]
  },
  {
   "cell_type": "markdown",
   "metadata": {},
   "source": [
    "插入排序还可以将寻找插入位置和移动数组元素同时进行，这样也可以优化算法时间。\n",
    "\n",
    "步骤为：对于每一个位置，如果它的前一个元素大于目标值，则将该元素前一个元素移动到该位置，对前一个位置继续此过程，直到前一个元素小于目标值或没有前一个元素，此时将目标值放入该位置，即完成了查找插入位置与插入元素统一的操作。"
   ]
  },
  {
   "cell_type": "code",
   "execution_count": 23,
   "metadata": {},
   "outputs": [],
   "source": [
    "class MoveInsertionSort<T extends Comparable> extends Sort<T> {\n",
    "    public void sort(T[] data) {\n",
    "        for (int i = 1; i < data.length; i++) {\n",
    "            findIndexAndMove(data, i);\n",
    "        }\n",
    "    }\n",
    "    // 一边查找一边移动元素\n",
    "    private void findIndexAndMove(T[] data, int index) {\n",
    "        T temp = data[index];\n",
    "        for (int i = index; i >= 0; i--) {\n",
    "            if (i == 0) {\n",
    "                data[i] = temp;\n",
    "            } else {\n",
    "                if (data[i - 1].compareTo(temp) > 0) {\n",
    "                    data[i] = data[i - 1];\n",
    "                } else {\n",
    "                    data[i] = temp;\n",
    "                    break;\n",
    "                }\n",
    "            }\n",
    "        }\n",
    "    }\n",
    "}"
   ]
  },
  {
   "cell_type": "code",
   "execution_count": 30,
   "metadata": {},
   "outputs": [
    {
     "name": "stdout",
     "output_type": "stream",
     "text": [
      "0 1 2 3 4 7 9 9 11 11 12 13 15 16 18 19 21 22 23 24 24 26 26 27 27 29 30 30 31 38 38 39 40 42 42 43 44 44 44 46 47 47 48 51 52 52 55 56 56 56 58 58 59 61 62 62 63 63 63 64 64 66 66 66 67 67 68 69 70 70 71 72 74 77 79 79 79 80 80 82 83 86 87 88 89 90 92 92 93 93 94 94 94 95 95 95 95 97 98 99 \n"
     ]
    }
   ],
   "source": [
    "Integer[] data = getRandomIntegerArray(100, 0, 100);\n",
    "new MoveInsertionSort().sort(data);\n",
    "print(data);"
   ]
  },
  {
   "cell_type": "code",
   "execution_count": 28,
   "metadata": {},
   "outputs": [
    {
     "data": {
      "text/plain": [
       "Sort: Move Search Insertion Sort Start"
      ]
     },
     "metadata": {},
     "output_type": "display_data"
    },
    {
     "data": {
      "text/plain": [
       "Sort 1000 numbers complete, average time 1 ms"
      ]
     },
     "metadata": {},
     "output_type": "display_data"
    },
    {
     "data": {
      "text/plain": [
       "Sort 2000 numbers complete, average time 4 ms"
      ]
     },
     "metadata": {},
     "output_type": "display_data"
    },
    {
     "data": {
      "text/plain": [
       "Sort 3000 numbers complete, average time 9 ms"
      ]
     },
     "metadata": {},
     "output_type": "display_data"
    },
    {
     "data": {
      "text/plain": [
       "Sort 4000 numbers complete, average time 16 ms"
      ]
     },
     "metadata": {},
     "output_type": "display_data"
    },
    {
     "data": {
      "text/plain": [
       "Sort 5000 numbers complete, average time 25 ms"
      ]
     },
     "metadata": {},
     "output_type": "display_data"
    },
    {
     "data": {
      "text/plain": [
       "Sort 6000 numbers complete, average time 36 ms"
      ]
     },
     "metadata": {},
     "output_type": "display_data"
    },
    {
     "data": {
      "text/plain": [
       "Sort 7000 numbers complete, average time 50 ms"
      ]
     },
     "metadata": {},
     "output_type": "display_data"
    },
    {
     "data": {
      "text/plain": [
       "Sort 8000 numbers complete, average time 65 ms"
      ]
     },
     "metadata": {},
     "output_type": "display_data"
    },
    {
     "data": {
      "text/plain": [
       "Sort 9000 numbers complete, average time 85 ms"
      ]
     },
     "metadata": {},
     "output_type": "display_data"
    },
    {
     "data": {
      "text/plain": [
       "Sort 10000 numbers complete, average time 104 ms"
      ]
     },
     "metadata": {},
     "output_type": "display_data"
    }
   ],
   "source": [
    "XYChart chart = testSort(\"Move Search Insertion Sort\", new MoveInsertionSort());"
   ]
  },
  {
   "cell_type": "code",
   "execution_count": 29,
   "metadata": {},
   "outputs": [
    {
     "data": {
      "image/png": "[encoded data removed]",
      "text/plain": [
       "BufferedImage@6e148da8: type = 1 DirectColorModel: rmask=ff0000 gmask=ff00 bmask=ff amask=0 IntegerInterleavedRaster: width = 600 height = 400 #Bands = 3 xOff = 0 yOff = 0 dataOffset[0] 0"
      ]
     },
     "execution_count": 29,
     "metadata": {},
     "output_type": "execute_result"
    }
   ],
   "source": [
    "BitmapEncoder.getBufferedImage(chart);"
   ]
  },
  {
   "cell_type": "markdown",
   "metadata": {},
   "source": [
    "经过上述优化过的插入排序相对于选择排序，其循环过程在找到插入位置后就会终止，在近似有序的排序中其时间复杂度接近于 $O(n)$。"
   ]
  },
  {
   "cell_type": "markdown",
   "metadata": {},
   "source": [
    "### 冒泡排序\n",
    "\n",
    "从头又开始，依次比较两个相邻的元素，如果第一个大于第二个则将它们交换位置，直到到达数组末尾，这时，数组末尾元素为最大的元素，再从头开始，到数组倒数第二个元素，当数组有序时排序结束。"
   ]
  },
  {
   "cell_type": "markdown",
   "metadata": {},
   "source": [
    "#### 算法实现"
   ]
  },
  {
   "cell_type": "code",
   "execution_count": 33,
   "metadata": {},
   "outputs": [],
   "source": [
    "class BubbleSort<T extends Comparable> extends Sort<T> {\n",
    "    public void sort(T[] data) {\n",
    "        int end = data.length - 2;\n",
    "        while (end >= 0) {\n",
    "            boolean flag = false;\n",
    "            for (int i = 0; i <= end; i++) {\n",
    "                if (data[i].compareTo(data[i + 1]) > 0) {\n",
    "                    swap(data, i, i + 1);\n",
    "                    flag = true;\n",
    "                }\n",
    "            }\n",
    "            end--;\n",
    "            if (!flag) {\n",
    "                break;\n",
    "            }\n",
    "        }\n",
    "    }\n",
    "}"
   ]
  },
  {
   "cell_type": "code",
   "execution_count": 34,
   "metadata": {},
   "outputs": [
    {
     "name": "stdout",
     "output_type": "stream",
     "text": [
      "2 2 4 4 4 6 6 7 8 8 9 9 10 14 15 17 18 22 23 24 25 25 25 27 28 28 28 28 29 29 30 31 31 32 32 34 36 38 39 40 42 43 43 45 47 48 48 49 49 49 51 51 52 52 52 54 54 54 55 56 56 57 57 59 60 60 60 60 60 61 61 66 67 70 72 72 73 73 75 75 77 79 81 86 87 88 88 89 89 90 90 92 93 94 95 95 95 96 98 98 \n"
     ]
    }
   ],
   "source": [
    "Integer[] data = getRandomIntegerArray(100, 0, 100);\n",
    "new BubbleSort().sort(data);\n",
    "print(data);"
   ]
  },
  {
   "cell_type": "code",
   "execution_count": 35,
   "metadata": {},
   "outputs": [
    {
     "data": {
      "text/plain": [
       "Sort: Bubble Sort Start"
      ]
     },
     "metadata": {},
     "output_type": "display_data"
    },
    {
     "data": {
      "text/plain": [
       "Sort 1000 numbers complete, average time 5 ms"
      ]
     },
     "metadata": {},
     "output_type": "display_data"
    },
    {
     "data": {
      "text/plain": [
       "Sort 2000 numbers complete, average time 11 ms"
      ]
     },
     "metadata": {},
     "output_type": "display_data"
    },
    {
     "data": {
      "text/plain": [
       "Sort 3000 numbers complete, average time 26 ms"
      ]
     },
     "metadata": {},
     "output_type": "display_data"
    },
    {
     "data": {
      "text/plain": [
       "Sort 4000 numbers complete, average time 47 ms"
      ]
     },
     "metadata": {},
     "output_type": "display_data"
    },
    {
     "data": {
      "text/plain": [
       "Sort 5000 numbers complete, average time 78 ms"
      ]
     },
     "metadata": {},
     "output_type": "display_data"
    },
    {
     "data": {
      "text/plain": [
       "Sort 6000 numbers complete, average time 116 ms"
      ]
     },
     "metadata": {},
     "output_type": "display_data"
    },
    {
     "data": {
      "text/plain": [
       "Sort 7000 numbers complete, average time 162 ms"
      ]
     },
     "metadata": {},
     "output_type": "display_data"
    },
    {
     "data": {
      "text/plain": [
       "Sort 8000 numbers complete, average time 215 ms"
      ]
     },
     "metadata": {},
     "output_type": "display_data"
    },
    {
     "data": {
      "text/plain": [
       "Sort 9000 numbers complete, average time 276 ms"
      ]
     },
     "metadata": {},
     "output_type": "display_data"
    },
    {
     "data": {
      "text/plain": [
       "Sort 10000 numbers complete, average time 345 ms"
      ]
     },
     "metadata": {},
     "output_type": "display_data"
    }
   ],
   "source": [
    "XYChart chart = testSort(\"Bubble Sort\", new BubbleSort());"
   ]
  },
  {
   "cell_type": "code",
   "execution_count": null,
   "metadata": {},
   "outputs": [],
   "source": []
  }
 ],
 "metadata": {
  "kernelspec": {
   "display_name": "Java",
   "language": "java",
   "name": "java"
  },
  "language_info": {
   "codemirror_mode": "java",
   "file_extension": ".jshell",
   "mimetype": "text/x-java-source",
   "name": "Java",
   "pygments_lexer": "java",
   "version": "13.0.4+8-Ubuntu-120.04"
  }
 },
 "nbformat": 4,
 "nbformat_minor": 4
}
